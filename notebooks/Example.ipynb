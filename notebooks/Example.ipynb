{
 "cells": [
  {
   "cell_type": "code",
   "execution_count": 1,
   "metadata": {},
   "outputs": [],
   "source": [
    "%load_ext autoreload\n",
    "%autoreload 2"
   ]
  },
  {
   "cell_type": "code",
   "execution_count": 2,
   "metadata": {},
   "outputs": [],
   "source": [
    "import os\n",
    "\n",
    "os.chdir(\"..\")"
   ]
  },
  {
   "cell_type": "code",
   "execution_count": 3,
   "metadata": {},
   "outputs": [],
   "source": [
    "import pandas as pd\n",
    "\n",
    "from custom_tree_classifier import CustomDecisionTreeClassifier"
   ]
  },
  {
   "cell_type": "markdown",
   "metadata": {},
   "source": [
    "To illustrate this example, we use the data from the `titanic.csv` dataset to simply try and predict the survival of the individual (`Survived`) as a function of their boarding class (`Pclass`) and age (`Age`). "
   ]
  },
  {
   "cell_type": "code",
   "execution_count": 4,
   "metadata": {},
   "outputs": [
    {
     "data": {
      "text/html": [
       "<div>\n",
       "<style scoped>\n",
       "    .dataframe tbody tr th:only-of-type {\n",
       "        vertical-align: middle;\n",
       "    }\n",
       "\n",
       "    .dataframe tbody tr th {\n",
       "        vertical-align: top;\n",
       "    }\n",
       "\n",
       "    .dataframe thead th {\n",
       "        text-align: right;\n",
       "    }\n",
       "</style>\n",
       "<table border=\"1\" class=\"dataframe\">\n",
       "  <thead>\n",
       "    <tr style=\"text-align: right;\">\n",
       "      <th></th>\n",
       "      <th>Survived</th>\n",
       "      <th>Pclass</th>\n",
       "      <th>Age</th>\n",
       "    </tr>\n",
       "  </thead>\n",
       "  <tbody>\n",
       "    <tr>\n",
       "      <th>0</th>\n",
       "      <td>0</td>\n",
       "      <td>3</td>\n",
       "      <td>22.0</td>\n",
       "    </tr>\n",
       "    <tr>\n",
       "      <th>1</th>\n",
       "      <td>1</td>\n",
       "      <td>1</td>\n",
       "      <td>38.0</td>\n",
       "    </tr>\n",
       "    <tr>\n",
       "      <th>2</th>\n",
       "      <td>1</td>\n",
       "      <td>3</td>\n",
       "      <td>26.0</td>\n",
       "    </tr>\n",
       "    <tr>\n",
       "      <th>3</th>\n",
       "      <td>1</td>\n",
       "      <td>1</td>\n",
       "      <td>35.0</td>\n",
       "    </tr>\n",
       "    <tr>\n",
       "      <th>4</th>\n",
       "      <td>0</td>\n",
       "      <td>3</td>\n",
       "      <td>35.0</td>\n",
       "    </tr>\n",
       "  </tbody>\n",
       "</table>\n",
       "</div>"
      ],
      "text/plain": [
       "   Survived  Pclass   Age\n",
       "0         0       3  22.0\n",
       "1         1       1  38.0\n",
       "2         1       3  26.0\n",
       "3         1       1  35.0\n",
       "4         0       3  35.0"
      ]
     },
     "execution_count": 4,
     "metadata": {},
     "output_type": "execute_result"
    }
   ],
   "source": [
    "df = (\n",
    "    pd\n",
    "    .read_csv(\"notebooks/data/titanic.csv\")\n",
    "    [[\"Survived\", \"Pclass\", \"Age\"]]\n",
    "    .dropna()\n",
    ")\n",
    "\n",
    "df.head()"
   ]
  },
  {
   "cell_type": "markdown",
   "metadata": {},
   "source": [
    "To define your own splitting metric, you need to create a class derived from the `custom_tree.metrics.MetricBase` model. This class must contain the same methods and object types as inputs and outputs.\n",
    "\n",
    "As a reminder, the splitting in a decision tree is performed based on the optimization (maximization or minimization) of a measure.\n",
    "\n",
    "*   `.compute_metric`: Measure of the metric. For example, the Gini index represents the impurity of a group of observations based on the observations of each class (0 and 1):\n",
    "\n",
    "$$ I_{G} = 1 - p_0^2 - p_1^2 $$\n",
    "\n",
    "*   `.compute_delta`: Measure of the delta. For example, optimizing the Gini index involves minimizing the weighted average of the Gini index across child nodes ($L$ and $R$). This is equivalent to minimizing $\\Delta$:\n",
    "\n",
    "$$ \\Delta = \\frac{N_t}{N} \\times (I_G - \\frac{N_{t_L} * I_{G_L}}{N_t} - \\frac{N_{t_R} * I_{G_R}}{N_t}) $$"
   ]
  },
  {
   "cell_type": "markdown",
   "metadata": {},
   "source": [
    "Here is an example of class for the Gini index :"
   ]
  },
  {
   "cell_type": "code",
   "execution_count": 5,
   "metadata": {},
   "outputs": [],
   "source": [
    "import numpy as np\n",
    "\n",
    "from custom_tree_classifier.metrics import MetricBase\n",
    "\n",
    "\n",
    "class Gini(MetricBase):\n",
    "\n",
    "    @staticmethod\n",
    "    def compute_metric(metric_data: np.ndarray) -> np.float64:\n",
    "\n",
    "        y = metric_data[:, 0]\n",
    "\n",
    "        prop0 = np.sum(y == 0) / len(y)\n",
    "        prop1 = np.sum(y == 1) / len(y)\n",
    "\n",
    "        metric = 1 - (prop0**2 + prop1**2)\n",
    "\n",
    "        return metric\n",
    "\n",
    "    @staticmethod\n",
    "    def compute_delta(\n",
    "            split: np.ndarray,\n",
    "            metric_data: np.ndarray\n",
    "        ) -> np.float64:\n",
    "\n",
    "        delta = (\n",
    "            Gini.compute_metric(metric_data) -\n",
    "            Gini.compute_metric(metric_data[split]) * np.mean(split) -\n",
    "            Gini.compute_metric(metric_data[np.invert(split)]) * (1 - np.mean(split))\n",
    "        )\n",
    "\n",
    "        return delta"
   ]
  },
  {
   "cell_type": "markdown",
   "metadata": {},
   "source": [
    "# CustomDecisionTreeClassifier"
   ]
  },
  {
   "cell_type": "markdown",
   "metadata": {},
   "source": [
    "After instantiating the model, you can specify the metric to be considered using the `.setup_metric` method:"
   ]
  },
  {
   "cell_type": "code",
   "execution_count": 6,
   "metadata": {},
   "outputs": [],
   "source": [
    "decision_tree = CustomDecisionTreeClassifier(\n",
    "    max_depth=8\n",
    ")\n",
    "\n",
    "decision_tree.setup_metric(metric=Gini)"
   ]
  },
  {
   "cell_type": "markdown",
   "metadata": {},
   "source": [
    "Train the model with `.fit` :"
   ]
  },
  {
   "cell_type": "code",
   "execution_count": 7,
   "metadata": {},
   "outputs": [],
   "source": [
    "X = np.array(df[[\"Pclass\", \"Age\"]])\n",
    "y = np.array(df[\"Survived\"])\n",
    "metric_data = np.array(df[[\"Survived\"]])\n",
    "\n",
    "decision_tree.fit(\n",
    "    X=X,\n",
    "    y=y,\n",
    "    metric_data=metric_data\n",
    ")"
   ]
  },
  {
   "cell_type": "markdown",
   "metadata": {},
   "source": [
    "Retrieve predictions on new data with `predict_proba` :"
   ]
  },
  {
   "cell_type": "code",
   "execution_count": 8,
   "metadata": {},
   "outputs": [
    {
     "data": {
      "text/plain": [
       "array([[0.77358491, 0.22641509],\n",
       "       [0.27272727, 0.72727273],\n",
       "       [0.77358491, 0.22641509],\n",
       "       [0.        , 1.        ],\n",
       "       [0.83333333, 0.16666667]])"
      ]
     },
     "execution_count": 8,
     "metadata": {},
     "output_type": "execute_result"
    }
   ],
   "source": [
    "X = np.array(df[[\"Pclass\", \"Age\"]])\n",
    "\n",
    "probas = decision_tree.predict_proba(\n",
    "    X=X\n",
    ")\n",
    "\n",
    "probas[:5]"
   ]
  },
  {
   "cell_type": "markdown",
   "metadata": {},
   "source": [
    "Display the classification tree using the `.print_tree` method:"
   ]
  },
  {
   "cell_type": "code",
   "execution_count": 9,
   "metadata": {},
   "outputs": [
    {
     "name": "stdout",
     "output_type": "stream",
     "text": [
      "[1] -> Gini index = 0.48 | repartition = [424, 290]\n",
      "|    Δ Gini index = +0.05\n",
      "|   [2] Pclass <= 2.0 -> Gini index = 0.49 | repartition = [154, 205]\n",
      "|   |    Δ Gini index = +0.03\n",
      "|   |   [4] Age <= 17.0 -> Gini index = 0.16 | repartition = [3, 32]\n",
      "|   |   |    Δ Gini index = +0.01\n",
      "|   |   |   [8] Age <= 15.0 -> Gini index = 0.08 | repartition = [1, 24]\n",
      "|   |   |   |    Δ Gini index = +0.01\n",
      "|   |   |   |   [16] Pclass <= 1.0 -> Gini index = 0.28 | repartition = [1, 5]\n",
      "|   |   |   |   |    Δ Gini index = +0.11\n",
      "|   |   |   |   |   [32] Age <= 2.0 -> Gini index = 0.5 | repartition = [1, 1]\n",
      "|   |   |   |   |   |    Δ Gini index = +0.5\n",
      "|   |   |   |   |   |   [64] Age <= 0.92 -> Gini index = 0.0 | repartition = [0, 1]\n",
      "|   |   |   |   |   |   [65] Age > 0.92 -> Gini index = 0.0 | repartition = [1, 0]\n",
      "|   |   |   |   |   [33] Age > 2.0 -> Gini index = 0.0 | repartition = [0, 4]\n",
      "|   |   |   |   [17] Pclass > 1.0 -> Gini index = 0.0 | repartition = [0, 19]\n",
      "|   |   |   [9] Age > 15.0 -> Gini index = 0.32 | repartition = [2, 8]\n",
      "|   |   |   |    Δ Gini index = +0.12\n",
      "|   |   |   |   [18] Pclass <= 1.0 -> Gini index = 0.0 | repartition = [0, 6]\n",
      "|   |   |   |   [19] Pclass > 1.0 -> Gini index = 0.5 | repartition = [2, 2]\n",
      "|   |   |   |   |    Δ Gini index = +0.5\n",
      "|   |   |   |   |   [38] Age <= 16.0 -> Gini index = 0.0 | repartition = [2, 0]\n",
      "|   |   |   |   |   [39] Age > 16.0 -> Gini index = 0.0 | repartition = [0, 2]\n",
      "|   |   [5] Age > 17.0 -> Gini index = 0.5 | repartition = [151, 173]\n",
      "|   |   |    Δ Gini index = +0.03\n",
      "|   |   |   [10] Pclass <= 1.0 -> Gini index = 0.46 | repartition = [63, 111]\n",
      "|   |   |   |    Δ Gini index = +0.03\n",
      "|   |   |   |   [20] Age <= 44.0 -> Gini index = 0.39 | repartition = [28, 79]\n",
      "|   |   |   |   |    Δ Gini index = 0.0\n",
      "|   |   |   |   |   [40] Age <= 36.0 -> Gini index = 0.37 | repartition = [19, 60]\n",
      "|   |   |   |   |   |    Δ Gini index = +0.01\n",
      "|   |   |   |   |   |   [80] Age <= 31.0 -> Gini index = 0.42 | repartition = [16, 38]\n",
      "|   |   |   |   |   |   |    Δ Gini index = +0.01\n",
      "|   |   |   |   |   |   |   [160] Age <= 27.0 -> Gini index = 0.38 | repartition = [9, 27]\n",
      "|   |   |   |   |   |   |   |    Δ Gini index = +0.01\n",
      "|   |   |   |   |   |   |   |   [320] Age <= 21.0 -> Gini index = 0.44 | repartition = [4, 8]\n",
      "|   |   |   |   |   |   |   |   [321] Age > 21.0 -> Gini index = 0.33 | repartition = [5, 19]\n",
      "|   |   |   |   |   |   |   [161] Age > 27.0 -> Gini index = 0.48 | repartition = [7, 11]\n",
      "|   |   |   |   |   |   |   |    Δ Gini index = +0.04\n",
      "|   |   |   |   |   |   |   |   [322] Age <= 29.0 -> Gini index = 0.49 | repartition = [4, 3]\n",
      "|   |   |   |   |   |   |   |   [323] Age > 29.0 -> Gini index = 0.4 | repartition = [3, 8]\n",
      "|   |   |   |   |   |   [81] Age > 31.0 -> Gini index = 0.21 | repartition = [3, 22]\n",
      "|   |   |   |   |   |   |    Δ Gini index = +0.01\n",
      "|   |   |   |   |   |   |   [162] Age <= 35.0 -> Gini index = 0.12 | repartition = [1, 15]\n",
      "|   |   |   |   |   |   |   |    Δ Gini index = +0.01\n",
      "|   |   |   |   |   |   |   |   [324] Age <= 33.0 -> Gini index = 0.28 | repartition = [1, 5]\n",
      "|   |   |   |   |   |   |   |   [325] Age > 33.0 -> Gini index = 0.0 | repartition = [0, 10]\n",
      "|   |   |   |   |   |   |   [163] Age > 35.0 -> Gini index = 0.35 | repartition = [2, 7]\n",
      "|   |   |   |   |   [41] Age > 36.0 -> Gini index = 0.44 | repartition = [9, 19]\n",
      "|   |   |   |   |   |    Δ Gini index = +0.03\n",
      "|   |   |   |   |   |   [82] Age <= 37.0 -> Gini index = 0.44 | repartition = [2, 1]\n",
      "|   |   |   |   |   |   [83] Age > 37.0 -> Gini index = 0.4 | repartition = [7, 18]\n",
      "|   |   |   |   |   |   |    Δ Gini index = 0.0\n",
      "|   |   |   |   |   |   |   [166] Age <= 40.0 -> Gini index = 0.43 | repartition = [5, 11]\n",
      "|   |   |   |   |   |   |   |    Δ Gini index = +0.01\n",
      "|   |   |   |   |   |   |   |   [332] Age <= 39.0 -> Gini index = 0.4 | repartition = [3, 8]\n",
      "|   |   |   |   |   |   |   |   [333] Age > 39.0 -> Gini index = 0.48 | repartition = [2, 3]\n",
      "|   |   |   |   |   |   |   [167] Age > 40.0 -> Gini index = 0.35 | repartition = [2, 7]\n",
      "|   |   |   |   |   |   |   |    Δ Gini index = +0.01\n",
      "|   |   |   |   |   |   |   |   [334] Age <= 43.0 -> Gini index = 0.28 | repartition = [1, 5]\n",
      "|   |   |   |   |   |   |   |   [335] Age > 43.0 -> Gini index = 0.44 | repartition = [1, 2]\n",
      "|   |   |   |   [21] Age > 44.0 -> Gini index = 0.5 | repartition = [35, 32]\n",
      "|   |   |   |   |    Δ Gini index = +0.04\n",
      "|   |   |   |   |   [42] Age <= 60.0 -> Gini index = 0.5 | repartition = [24, 29]\n",
      "|   |   |   |   |   |    Δ Gini index = +0.07\n",
      "|   |   |   |   |   |   [84] Age <= 47.0 -> Gini index = 0.36 | repartition = [10, 3]\n",
      "|   |   |   |   |   |   |    Δ Gini index = +0.04\n",
      "|   |   |   |   |   |   |   [168] Age <= 45.0 -> Gini index = 0.48 | repartition = [3, 2]\n",
      "|   |   |   |   |   |   |   [169] Age > 45.0 -> Gini index = 0.22 | repartition = [7, 1]\n",
      "|   |   |   |   |   |   |   |    Δ Gini index = +0.02\n",
      "|   |   |   |   |   |   |   |   [338] Age <= 46.0 -> Gini index = 0.0 | repartition = [3, 0]\n",
      "|   |   |   |   |   |   |   |   [339] Age > 46.0 -> Gini index = 0.32 | repartition = [4, 1]\n",
      "|   |   |   |   |   |   [85] Age > 47.0 -> Gini index = 0.45 | repartition = [14, 26]\n",
      "|   |   |   |   |   |   |    Δ Gini index = +0.04\n",
      "|   |   |   |   |   |   |   [170] Age <= 49.0 -> Gini index = 0.18 | repartition = [1, 9]\n",
      "|   |   |   |   |   |   |   |    Δ Gini index = +0.02\n",
      "|   |   |   |   |   |   |   |   [340] Age <= 48.0 -> Gini index = 0.0 | repartition = [0, 5]\n",
      "|   |   |   |   |   |   |   |   [341] Age > 48.0 -> Gini index = 0.32 | repartition = [1, 4]\n",
      "|   |   |   |   |   |   |   [171] Age > 49.0 -> Gini index = 0.49 | repartition = [13, 17]\n",
      "|   |   |   |   |   |   |   |    Δ Gini index = +0.01\n",
      "|   |   |   |   |   |   |   |   [342] Age <= 50.0 -> Gini index = 0.48 | repartition = [3, 2]\n",
      "|   |   |   |   |   |   |   |   [343] Age > 50.0 -> Gini index = 0.48 | repartition = [10, 15]\n",
      "|   |   |   |   |   [43] Age > 60.0 -> Gini index = 0.34 | repartition = [11, 3]\n",
      "|   |   |   |   |   |    Δ Gini index = +0.09\n",
      "|   |   |   |   |   |   [86] Age <= 71.0 -> Gini index = 0.26 | repartition = [11, 2]\n",
      "|   |   |   |   |   |   |    Δ Gini index = +0.06\n",
      "|   |   |   |   |   |   |   [172] Age <= 63.0 -> Gini index = 0.44 | repartition = [4, 2]\n",
      "|   |   |   |   |   |   |   |    Δ Gini index = +0.18\n",
      "|   |   |   |   |   |   |   |   [344] Age <= 62.0 -> Gini index = 0.32 | repartition = [4, 1]\n",
      "|   |   |   |   |   |   |   |   [345] Age > 62.0 -> Gini index = 0.0 | repartition = [0, 1]\n",
      "|   |   |   |   |   |   |   [173] Age > 63.0 -> Gini index = 0.0 | repartition = [7, 0]\n",
      "|   |   |   |   |   |   [87] Age > 71.0 -> Gini index = 0.0 | repartition = [0, 1]\n",
      "|   |   |   [11] Pclass > 1.0 -> Gini index = 0.48 | repartition = [88, 62]\n",
      "|   |   |   |    Δ Gini index = +0.01\n",
      "|   |   |   |   [22] Age <= 50.0 -> Gini index = 0.49 | repartition = [76, 59]\n",
      "|   |   |   |   |    Δ Gini index = +0.01\n",
      "|   |   |   |   |   [44] Age <= 39.0 -> Gini index = 0.48 | repartition = [67, 46]\n",
      "|   |   |   |   |   |    Δ Gini index = +0.02\n",
      "|   |   |   |   |   |   [88] Age <= 36.0 -> Gini index = 0.49 | repartition = [61, 46]\n",
      "|   |   |   |   |   |   |    Δ Gini index = 0.0\n",
      "|   |   |   |   |   |   |   [176] Age <= 27.0 -> Gini index = 0.47 | repartition = [31, 19]\n",
      "|   |   |   |   |   |   |   |    Δ Gini index = +0.01\n",
      "|   |   |   |   |   |   |   |   [352] Age <= 24.0 -> Gini index = 0.49 | repartition = [20, 15]\n",
      "|   |   |   |   |   |   |   |   [353] Age > 24.0 -> Gini index = 0.39 | repartition = [11, 4]\n",
      "|   |   |   |   |   |   |   [177] Age > 27.0 -> Gini index = 0.5 | repartition = [30, 27]\n",
      "|   |   |   |   |   |   |   |    Δ Gini index = 0.0\n",
      "|   |   |   |   |   |   |   |   [354] Age <= 29.0 -> Gini index = 0.5 | repartition = [7, 8]\n",
      "|   |   |   |   |   |   |   |   [355] Age > 29.0 -> Gini index = 0.5 | repartition = [23, 19]\n",
      "|   |   |   |   |   |   [89] Age > 36.0 -> Gini index = 0.0 | repartition = [6, 0]\n",
      "|   |   |   |   |   [45] Age > 39.0 -> Gini index = 0.48 | repartition = [9, 13]\n",
      "|   |   |   |   |   |    Δ Gini index = +0.07\n",
      "|   |   |   |   |   |   [90] Age <= 41.0 -> Gini index = 0.0 | repartition = [0, 4]\n",
      "|   |   |   |   |   |   [91] Age > 41.0 -> Gini index = 0.5 | repartition = [9, 9]\n",
      "|   |   |   |   |   |   |    Δ Gini index = +0.04\n",
      "|   |   |   |   |   |   |   [182] Age <= 48.0 -> Gini index = 0.49 | repartition = [8, 6]\n",
      "|   |   |   |   |   |   |   |    Δ Gini index = +0.03\n",
      "|   |   |   |   |   |   |   |   [364] Age <= 42.0 -> Gini index = 0.48 | repartition = [2, 3]\n",
      "|   |   |   |   |   |   |   |   [365] Age > 42.0 -> Gini index = 0.44 | repartition = [6, 3]\n",
      "|   |   |   |   |   |   |   [183] Age > 48.0 -> Gini index = 0.38 | repartition = [1, 3]\n",
      "|   |   |   |   [23] Age > 50.0 -> Gini index = 0.32 | repartition = [12, 3]\n",
      "|   |   |   |   |    Δ Gini index = +0.02\n",
      "|   |   |   |   |   [46] Age <= 52.0 -> Gini index = 0.0 | repartition = [3, 0]\n",
      "|   |   |   |   |   [47] Age > 52.0 -> Gini index = 0.38 | repartition = [9, 3]\n",
      "|   |   |   |   |   |    Δ Gini index = +0.03\n",
      "|   |   |   |   |   |   [94] Age <= 55.0 -> Gini index = 0.48 | repartition = [3, 2]\n",
      "|   |   |   |   |   |   |    Δ Gini index = +0.18\n",
      "|   |   |   |   |   |   |   [188] Age <= 54.0 -> Gini index = 0.38 | repartition = [3, 1]\n",
      "|   |   |   |   |   |   |   [189] Age > 54.0 -> Gini index = 0.0 | repartition = [0, 1]\n",
      "|   |   |   |   |   |   [95] Age > 55.0 -> Gini index = 0.24 | repartition = [6, 1]\n",
      "|   |   |   |   |   |   |    Δ Gini index = +0.05\n",
      "|   |   |   |   |   |   |   [190] Age <= 60.0 -> Gini index = 0.0 | repartition = [4, 0]\n",
      "|   |   |   |   |   |   |   [191] Age > 60.0 -> Gini index = 0.44 | repartition = [2, 1]\n",
      "|   |   |   |   |   |   |   |    Δ Gini index = +0.44\n",
      "|   |   |   |   |   |   |   |   [382] Age <= 62.0 -> Gini index = 0.0 | repartition = [0, 1]\n",
      "|   |   |   |   |   |   |   |   [383] Age > 62.0 -> Gini index = 0.0 | repartition = [2, 0]\n",
      "|   [3] Pclass > 2.0 -> Gini index = 0.36 | repartition = [270, 85]\n",
      "|   |    Δ Gini index = +0.02\n",
      "|   |   [6] Age <= 6.0 -> Gini index = 0.49 | repartition = [13, 17]\n",
      "|   |   |    Δ Gini index = +0.04\n",
      "|   |   |   [12] Age <= 0.75 -> Gini index = 0.0 | repartition = [0, 3]\n",
      "|   |   |   [13] Age > 0.75 -> Gini index = 0.5 | repartition = [13, 14]\n",
      "|   |   |   |    Δ Gini index = +0.05\n",
      "|   |   |   |   [26] Age <= 2.0 -> Gini index = 0.44 | repartition = [8, 4]\n",
      "|   |   |   |   |    Δ Gini index = +0.1\n",
      "|   |   |   |   |   [52] Age <= 1.0 -> Gini index = 0.48 | repartition = [2, 3]\n",
      "|   |   |   |   |   [53] Age > 1.0 -> Gini index = 0.24 | repartition = [6, 1]\n",
      "|   |   |   |   [27] Age > 2.0 -> Gini index = 0.44 | repartition = [5, 10]\n",
      "|   |   |   |   |    Δ Gini index = +0.02\n",
      "|   |   |   |   |   [54] Age <= 4.0 -> Gini index = 0.48 | repartition = [4, 6]\n",
      "|   |   |   |   |   |    Δ Gini index = 0.0\n",
      "|   |   |   |   |   |   [108] Age <= 3.0 -> Gini index = 0.44 | repartition = [1, 2]\n",
      "|   |   |   |   |   |   [109] Age > 3.0 -> Gini index = 0.49 | repartition = [3, 4]\n",
      "|   |   |   |   |   [55] Age > 4.0 -> Gini index = 0.32 | repartition = [1, 4]\n",
      "|   |   |   |   |   |    Δ Gini index = +0.12\n",
      "|   |   |   |   |   |   [110] Age <= 5.0 -> Gini index = 0.0 | repartition = [0, 3]\n",
      "|   |   |   |   |   |   [111] Age > 5.0 -> Gini index = 0.5 | repartition = [1, 1]\n",
      "|   |   [7] Age > 6.0 -> Gini index = 0.33 | repartition = [257, 68]\n",
      "|   |   |    Δ Gini index = +0.01\n",
      "|   |   |   [14] Age <= 32.0 -> Gini index = 0.37 | repartition = [183, 60]\n",
      "|   |   |   |    Δ Gini index = +0.01\n",
      "|   |   |   |   [28] Age <= 30.5 -> Gini index = 0.36 | repartition = [172, 52]\n",
      "|   |   |   |   |    Δ Gini index = 0.0\n",
      "|   |   |   |   |   [56] Age <= 27.0 -> Gini index = 0.37 | repartition = [140, 46]\n",
      "|   |   |   |   |   |    Δ Gini index = +0.02\n",
      "|   |   |   |   |   |   [112] Age <= 26.0 -> Gini index = 0.35 | repartition = [138, 40]\n",
      "|   |   |   |   |   |   |    Δ Gini index = 0.0\n",
      "|   |   |   |   |   |   |   [224] Age <= 11.0 -> Gini index = 0.21 | repartition = [15, 2]\n",
      "|   |   |   |   |   |   |   |    Δ Gini index = +0.01\n",
      "|   |   |   |   |   |   |   |   [448] Age <= 9.0 -> Gini index = 0.28 | repartition = [10, 2]\n",
      "|   |   |   |   |   |   |   |   [449] Age > 9.0 -> Gini index = 0.0 | repartition = [5, 0]\n",
      "|   |   |   |   |   |   |   [225] Age > 11.0 -> Gini index = 0.36 | repartition = [123, 38]\n",
      "|   |   |   |   |   |   |   |    Δ Gini index = +0.01\n",
      "|   |   |   |   |   |   |   |   [450] Age <= 13.0 -> Gini index = 0.0 | repartition = [0, 2]\n",
      "|   |   |   |   |   |   |   |   [451] Age > 13.0 -> Gini index = 0.35 | repartition = [123, 36]\n",
      "|   |   |   |   |   |   [113] Age > 26.0 -> Gini index = 0.38 | repartition = [2, 6]\n",
      "|   |   |   |   |   [57] Age > 27.0 -> Gini index = 0.27 | repartition = [32, 6]\n",
      "|   |   |   |   |   |    Δ Gini index = +0.03\n",
      "|   |   |   |   |   |   [114] Age <= 28.5 -> Gini index = 0.0 | repartition = [14, 0]\n",
      "|   |   |   |   |   |   [115] Age > 28.5 -> Gini index = 0.38 | repartition = [18, 6]\n",
      "|   |   |   |   |   |   |    Δ Gini index = +0.02\n",
      "|   |   |   |   |   |   |   [230] Age <= 29.0 -> Gini index = 0.46 | repartition = [7, 4]\n",
      "|   |   |   |   |   |   |   [231] Age > 29.0 -> Gini index = 0.26 | repartition = [11, 2]\n",
      "|   |   |   |   |   |   |   |    Δ Gini index = +0.01\n",
      "|   |   |   |   |   |   |   |   [462] Age <= 30.0 -> Gini index = 0.3 | repartition = [9, 2]\n",
      "|   |   |   |   |   |   |   |   [463] Age > 30.0 -> Gini index = 0.0 | repartition = [2, 0]\n",
      "|   |   |   |   [29] Age > 30.5 -> Gini index = 0.49 | repartition = [11, 8]\n",
      "|   |   |   |   |    Δ Gini index = 0.0\n",
      "|   |   |   |   |   [58] Age <= 31.0 -> Gini index = 0.49 | repartition = [4, 3]\n",
      "|   |   |   |   |   [59] Age > 31.0 -> Gini index = 0.49 | repartition = [7, 5]\n",
      "|   |   |   [15] Age > 32.0 -> Gini index = 0.18 | repartition = [74, 8]\n",
      "|   |   |   |    Δ Gini index = 0.0\n",
      "|   |   |   |   [30] Age <= 61.0 -> Gini index = 0.16 | repartition = [71, 7]\n",
      "|   |   |   |   |    Δ Gini index = 0.0\n",
      "|   |   |   |   |   [60] Age <= 39.0 -> Gini index = 0.23 | repartition = [32, 5]\n",
      "|   |   |   |   |   |    Δ Gini index = 0.0\n",
      "|   |   |   |   |   |   [120] Age <= 34.5 -> Gini index = 0.14 | repartition = [12, 1]\n",
      "|   |   |   |   |   |   |    Δ Gini index = +0.01\n",
      "|   |   |   |   |   |   |   [240] Age <= 33.0 -> Gini index = 0.22 | repartition = [7, 1]\n",
      "|   |   |   |   |   |   |   [241] Age > 33.0 -> Gini index = 0.0 | repartition = [5, 0]\n",
      "|   |   |   |   |   |   [121] Age > 34.5 -> Gini index = 0.28 | repartition = [20, 4]\n",
      "|   |   |   |   |   |   |    Δ Gini index = 0.0\n",
      "|   |   |   |   |   |   |   [242] Age <= 37.0 -> Gini index = 0.24 | repartition = [12, 2]\n",
      "|   |   |   |   |   |   |   |    Δ Gini index = +0.01\n",
      "|   |   |   |   |   |   |   |   [484] Age <= 36.0 -> Gini index = 0.28 | repartition = [10, 2]\n",
      "|   |   |   |   |   |   |   |   [485] Age > 36.0 -> Gini index = 0.0 | repartition = [2, 0]\n",
      "|   |   |   |   |   |   |   [243] Age > 37.0 -> Gini index = 0.32 | repartition = [8, 2]\n",
      "|   |   |   |   |   |   |   |    Δ Gini index = 0.0\n",
      "|   |   |   |   |   |   |   |   [486] Age <= 38.0 -> Gini index = 0.38 | repartition = [3, 1]\n",
      "|   |   |   |   |   |   |   |   [487] Age > 38.0 -> Gini index = 0.28 | repartition = [5, 1]\n",
      "|   |   |   |   |   [61] Age > 39.0 -> Gini index = 0.09 | repartition = [39, 2]\n",
      "|   |   |   |   |   |    Δ Gini index = 0.0\n",
      "|   |   |   |   |   |   [122] Age <= 43.0 -> Gini index = 0.0 | repartition = [18, 0]\n",
      "|   |   |   |   |   |   [123] Age > 43.0 -> Gini index = 0.16 | repartition = [21, 2]\n",
      "|   |   |   |   |   |   |    Δ Gini index = +0.02\n",
      "|   |   |   |   |   |   |   [246] Age <= 45.0 -> Gini index = 0.35 | repartition = [7, 2]\n",
      "|   |   |   |   |   |   |   |    Δ Gini index = 0.0\n",
      "|   |   |   |   |   |   |   |   [492] Age <= 44.0 -> Gini index = 0.38 | repartition = [3, 1]\n",
      "|   |   |   |   |   |   |   |   [493] Age > 44.0 -> Gini index = 0.32 | repartition = [4, 1]\n",
      "|   |   |   |   |   |   |   [247] Age > 45.0 -> Gini index = 0.0 | repartition = [14, 0]\n",
      "|   |   |   |   [31] Age > 61.0 -> Gini index = 0.38 | repartition = [3, 1]\n",
      "|   |   |   |   |    Δ Gini index = +0.38\n",
      "|   |   |   |   |   [62] Age <= 63.0 -> Gini index = 0.0 | repartition = [0, 1]\n",
      "|   |   |   |   |   [63] Age > 63.0 -> Gini index = 0.0 | repartition = [3, 0]\n"
     ]
    }
   ],
   "source": [
    "features_names = {\n",
    "    0: \"Pclass\",\n",
    "    1: \"Age\"\n",
    "}\n",
    "\n",
    "decision_tree.print_tree(\n",
    "    features_names=features_names,\n",
    "    digits=2,\n",
    "    metric_name=\"Gini index\"\n",
    ")"
   ]
  },
  {
   "cell_type": "markdown",
   "metadata": {},
   "source": [
    "# CustomRandomForestClassifier"
   ]
  },
  {
   "cell_type": "code",
   "execution_count": 10,
   "metadata": {},
   "outputs": [],
   "source": [
    "from custom_tree_classifier import CustomRandomForestClassifier"
   ]
  },
  {
   "cell_type": "code",
   "execution_count": 11,
   "metadata": {},
   "outputs": [],
   "source": [
    "random_forest = CustomRandomForestClassifier(\n",
    "    n_estimators=100,\n",
    "    max_depth=5\n",
    ")\n",
    "\n",
    "random_forest.setup_metric(metric=Gini)"
   ]
  },
  {
   "cell_type": "code",
   "execution_count": 12,
   "metadata": {},
   "outputs": [
    {
     "name": "stderr",
     "output_type": "stream",
     "text": [
      "100%|██████████| 100/100 [00:01<00:00, 54.85it/s]\n"
     ]
    }
   ],
   "source": [
    "X = np.array(df[[\"Pclass\", \"Age\"]])\n",
    "y = np.array(df[\"Survived\"])\n",
    "metric_data = np.array(df[[\"Survived\"]])\n",
    "\n",
    "random_forest.fit(\n",
    "    X=X,\n",
    "    y=y,\n",
    "    metric_data=metric_data\n",
    ")"
   ]
  },
  {
   "cell_type": "code",
   "execution_count": 13,
   "metadata": {},
   "outputs": [
    {
     "data": {
      "text/plain": [
       "array([[0.70183596, 0.29816404],\n",
       "       [0.46371079, 0.53628921],\n",
       "       [0.69864171, 0.30135829],\n",
       "       [0.43616443, 0.56383557],\n",
       "       [0.64645878, 0.35354122]])"
      ]
     },
     "execution_count": 13,
     "metadata": {},
     "output_type": "execute_result"
    }
   ],
   "source": [
    "X = np.array(df[[\"Pclass\", \"Age\"]])\n",
    "\n",
    "probas = random_forest.predict_proba(\n",
    "    X=X\n",
    ")\n",
    "\n",
    "probas[:5]"
   ]
  }
 ],
 "metadata": {
  "kernelspec": {
   "display_name": ".venv",
   "language": "python",
   "name": "python3"
  },
  "language_info": {
   "codemirror_mode": {
    "name": "ipython",
    "version": 3
   },
   "file_extension": ".py",
   "mimetype": "text/x-python",
   "name": "python",
   "nbconvert_exporter": "python",
   "pygments_lexer": "ipython3",
   "version": "3.12.8"
  },
  "orig_nbformat": 4
 },
 "nbformat": 4,
 "nbformat_minor": 2
}
